{
 "cells": [
  {
   "cell_type": "markdown",
   "metadata": {},
   "source": [
    "# Non-Linear Convolutional Neural Network using Sign Language Dataset\n",
    "\n",
    "In this case study a non-linear Convolutional Network was created using Keras' Functional API, in order to classify the numbers 0 to 5 in the Sign Language"
   ]
  },
  {
   "cell_type": "markdown",
   "metadata": {},
   "source": [
    "## Table of Contents\n",
    "\n",
    "- [1 - Packages](#1)\n",
    "    - [1.1 Useful Functions: Loading the Dataset, One-Hot-Encoding](#1-1)\n",
    "- [2 - Using the Functional API](#2)\n",
    "    - [2.1 - SIGNS Dataset](#2-1)\n",
    "    - [2.2 - Splitting the Data into Train/Test Sets](#2-2)\n",
    "    - [2.3 - Building the Model](#2-3)\n",
    "    - [2.4 - Training the Model](#2-4)\n",
    "- [3 - Visualizing the loss and the accuracy of the object](#3)"
   ]
  },
  {
   "cell_type": "markdown",
   "metadata": {},
   "source": [
    "<a name = '1'></a>\n",
    "## 1 - Packages"
   ]
  },
  {
   "cell_type": "code",
   "execution_count": 23,
   "metadata": {},
   "outputs": [],
   "source": [
    "import math\n",
    "import numpy as np\n",
    "import h5py\n",
    "import matplotlib.pyplot as plt\n",
    "from matplotlib.pyplot import imread\n",
    "import scipy\n",
    "from PIL import Image\n",
    "import pandas as pd\n",
    "import tensorflow as tf\n",
    "import tensorflow.keras.layers as tfl\n",
    "from tensorflow.python.framework import ops\n",
    "\n",
    "%matplotlib inline\n",
    "np.random.seed(1)"
   ]
  },
  {
   "cell_type": "markdown",
   "metadata": {},
   "source": [
    "<a name='1-1'></a>\n",
    "### 1.1 Useful Functions: Loading the Dataset, One-Hot-Encoding"
   ]
  },
  {
   "cell_type": "code",
   "execution_count": 56,
   "metadata": {},
   "outputs": [],
   "source": [
    "def load_signs_dataset():\n",
    "    # Train set features & labels\n",
    "    train_dataset = h5py.File('train_signs.h5', \"r\")\n",
    "    train_set_x_orig, train_set_y_orig = np.array(train_dataset[\"train_set_x\"][:]), np.array(train_dataset[\"train_set_y\"][:]) \n",
    "    \n",
    "    # Test set features & labels\n",
    "    test_dataset = h5py.File('test_signs.h5', \"r\")\n",
    "    test_set_x_orig, test_set_y_orig = np.array(test_dataset[\"test_set_x\"][:]), np.array(test_dataset[\"test_set_y\"][:])\n",
    "\n",
    "    # Reshaping the label data\n",
    "    train_set_y_orig = train_set_y_orig.reshape((1, train_set_y_orig.shape[0]))\n",
    "    test_set_y_orig = test_set_y_orig.reshape((1, test_set_y_orig.shape[0]))\n",
    "    \n",
    "    return train_set_x_orig, train_set_y_orig, test_set_x_orig, test_set_y_orig\n",
    "\n",
    "def one_hot_encoding(Y, C):\n",
    "    Y = np.eye(C)[Y.reshape(-1)].T\n",
    "    return Y"
   ]
  },
  {
   "cell_type": "markdown",
   "metadata": {},
   "source": [
    "<a name='2'></a>\n",
    "## 2 - Using the Functional API"
   ]
  },
  {
   "cell_type": "markdown",
   "metadata": {},
   "source": [
    "For this model the Keras' [Functional API](https://www.tensorflow.org/guide/keras/functional) was used. The Functional API can handle models with non-linear topology, shared layers, as well as layers with multiple inputs or outputs. \n",
    "\n",
    "In the visual example below, the one possible direction of the movement Sequential model is shown in contrast to a skip connection, which is just one of the many ways a Functional model can be constructed. A skip connection, as you might have guessed, skips some layer in the network and feeds the output to a later layer in the network."
   ]
  },
  {
   "cell_type": "markdown",
   "metadata": {},
   "source": [
    "<img src=\"seq_vs_func.png\" style=\"width:350px;height:200px;\">"
   ]
  },
  {
   "cell_type": "markdown",
   "metadata": {},
   "source": [
    "<a name='2-1'></a>\n",
    "### 2.1 - SIGNS Dataset\n",
    "\n",
    "The SIGNS dataset is a collection of 6 signs representing numbers from 0 to 5."
   ]
  },
  {
   "cell_type": "code",
   "execution_count": 57,
   "metadata": {},
   "outputs": [],
   "source": [
    "X_train_orig, Y_train_orig, X_test_orig, Y_test_orig = load_signs_dataset() #Loading the Dataset"
   ]
  },
  {
   "cell_type": "markdown",
   "metadata": {},
   "source": [
    "<img src=\"SIGNS.png\" style=\"width:800px;height:300px;\">\n",
    "\n",
    "The next cell shows an example of a labelled image in the dataset."
   ]
  },
  {
   "cell_type": "code",
   "execution_count": 39,
   "metadata": {},
   "outputs": [
    {
     "name": "stdout",
     "output_type": "stream",
     "text": [
      "y = 1\n"
     ]
    },
    {
     "data": {
      "image/png": "[encoded data removed]",
      "text/plain": [
       "<Figure size 432x288 with 1 Axes>"
      ]
     },
     "metadata": {
      "needs_background": "light"
     },
     "output_type": "display_data"
    }
   ],
   "source": [
    "# Example of an image from the dataset\n",
    "index = 11                                               # Index of the image\n",
    "plt.imshow(X_train_orig[index])                          # Plotting the image\n",
    "print (\"y = \" + str(np.squeeze(Y_train_orig[:, index]))) # Printing the number (label) that the sign corresponds to"
   ]
  },
  {
   "cell_type": "markdown",
   "metadata": {},
   "source": [
    "<a name='2-2'></a>\n",
    "### 2.2 - Splitting the Data into Train/Test Sets"
   ]
  },
  {
   "cell_type": "code",
   "execution_count": 52,
   "metadata": {},
   "outputs": [
    {
     "name": "stdout",
     "output_type": "stream",
     "text": [
      "number of training examples: 1080, number of test examples = 120\n",
      "X_train shape: (1080, 64, 64, 3), Y_train shape: (1080, 6)\n",
      "X_test shape:  (120, 64, 64, 3),  Y_test shape:  (120, 6)\n"
     ]
    }
   ],
   "source": [
    "X_train = X_train_orig/255.                                         # Normalizing the Training Features\n",
    "X_test = X_test_orig/255.                                           # Normalizing the Testing Features\n",
    "Y_train = one_hot_encoding(Y_train_orig, 6).T                       # Applying One-Hot Encoding to the Training Labels\n",
    "Y_test = one_hot_encoding(Y_test_orig, 6).T                         # Applying One-Hot Encoding to the Testing Labels\n",
    "\n",
    "print (f\"number of training examples: {X_train.shape[0]}, number of test examples = {X_test.shape[0]}\")\n",
    "print (f\"X_train shape: {X_train.shape}, Y_train shape: {Y_train.shape}\")\n",
    "print (f\"X_test shape:  {X_test.shape},  Y_test shape:  {Y_test.shape}\")"
   ]
  },
  {
   "cell_type": "markdown",
   "metadata": {},
   "source": [
    "<a name='2-3'></a>\n",
    "### 2.3 - Building the Model\n",
    "\n",
    "In TensorFlow, there are built-in functions that implement the Convolution steps.\n",
    "\n",
    "The following model could also be defined using the Sequential API since the information flow is on a single line, but the purpose of doing it this way was to show a non-linear model using the Keras' Functional API."
   ]
  },
  {
   "cell_type": "code",
   "execution_count": 24,
   "metadata": {
    "deletable": false,
    "nbgrader": {
     "cell_type": "code",
     "checksum": "f58643806aa8380c96225fc8b4c5e7aa",
     "grade": false,
     "grade_id": "cell-dac51744a9e03f51",
     "locked": false,
     "schema_version": 3,
     "solution": true,
     "task": false
    }
   },
   "outputs": [],
   "source": [
    "def convolutional_model(input_shape):\n",
    "    \"\"\"\n",
    "    Implements the forward propagation for the model:\n",
    "    CONV2D -> RELU -> MAXPOOL -> CONV2D -> RELU -> MAXPOOL -> FLATTEN -> DENSE\n",
    "    \n",
    "    Arguments:\n",
    "    input_img -- input dataset, of shape (input_shape)\n",
    "\n",
    "    Returns:\n",
    "    model -- TF Keras model (object containing the information for the entire training process) \n",
    "    \"\"\"\n",
    "\n",
    "    input_img = tf.keras.Input(shape=input_shape)                                          # The Input Layer\n",
    "    Z1 = tfl.Conv2D(filters=8, kernel_size=(4,4), strides=(1,1),padding='SAME')(input_img) # The Conv2D Layer with: 8 filters sized 4x4, stride of 1 and padding =='SAME'\n",
    "    A1 = tfl.ReLU()(Z1)                                                                    # The ReLU Layer with default settings\n",
    "    P1 = tfl.MaxPool2D(pool_size=(8,8),strides=8,padding='SAME')(A1)                       # The MaxPool2D Layer with: window size of 8x8, a stride of 8 and padding == 'SAME'\n",
    "    Z2 = tfl.Conv2D(filters=16, kernel_size=(2,2), strides=(1,1),padding='SAME')(P1)       # The Conv2D Layer with: 16 filters sized 2x2, stride of 1 and padding =='SAME'\n",
    "    A2 = tfl.ReLU()(Z2)                                                                    # The ReLU Layer with default settings\n",
    "    P2 = tfl.MaxPool2D(pool_size=(4,4),strides=4,padding='SAME')(A2)                       # The MaxPool2D Layer with: window size of 4x4, a stride of 4 and padding == 'SAME'\n",
    "    F = tfl.Flatten()(P2)                                                                  # The Flatten Layer with default settings\n",
    "    outputs = tfl.Dense(units=6, activation='softmax')(F)                                  # The Fully-Connected (Dense) Layer with 6 units and Softmax activation function\n",
    "    model = tf.keras.Model(inputs=input_img, outputs=outputs)                              # Building the Model from the Layers\n",
    "    \n",
    "    return model"
   ]
  },
  {
   "cell_type": "code",
   "execution_count": 25,
   "metadata": {
    "deletable": false,
    "editable": false,
    "nbgrader": {
     "cell_type": "code",
     "checksum": "483d626949930a0b0ef20997e7c6ba72",
     "grade": true,
     "grade_id": "cell-45d22e92042174c9",
     "locked": true,
     "points": 10,
     "schema_version": 3,
     "solution": false,
     "task": false
    }
   },
   "outputs": [
    {
     "name": "stdout",
     "output_type": "stream",
     "text": [
      "Model: \"model_4\"\n",
      "_________________________________________________________________\n",
      "Layer (type)                 Output Shape              Param #   \n",
      "=================================================================\n",
      "input_5 (InputLayer)         [(None, 64, 64, 3)]       0         \n",
      "_________________________________________________________________\n",
      "conv2d_8 (Conv2D)            (None, 64, 64, 8)         392       \n",
      "_________________________________________________________________\n",
      "re_lu_8 (ReLU)               (None, 64, 64, 8)         0         \n",
      "_________________________________________________________________\n",
      "max_pooling2d_8 (MaxPooling2 (None, 8, 8, 8)           0         \n",
      "_________________________________________________________________\n",
      "conv2d_9 (Conv2D)            (None, 8, 8, 16)          528       \n",
      "_________________________________________________________________\n",
      "re_lu_9 (ReLU)               (None, 8, 8, 16)          0         \n",
      "_________________________________________________________________\n",
      "max_pooling2d_9 (MaxPooling2 (None, 2, 2, 16)          0         \n",
      "_________________________________________________________________\n",
      "flatten_4 (Flatten)          (None, 64)                0         \n",
      "_________________________________________________________________\n",
      "dense_4 (Dense)              (None, 6)                 390       \n",
      "=================================================================\n",
      "Total params: 1,310\n",
      "Trainable params: 1,310\n",
      "Non-trainable params: 0\n",
      "_________________________________________________________________\n"
     ]
    }
   ],
   "source": [
    "conv_model = convolutional_model((64, 64, 3))                                               # Building the Model\n",
    "conv_model.compile(optimizer='adam', loss='categorical_crossentropy', metrics=['accuracy']) # Compiling the Model\n",
    "conv_model.summary()                                                                        # Getting a summary of the Model"
   ]
  },
  {
   "cell_type": "markdown",
   "metadata": {},
   "source": [
    "<a name='2-4'></a>\n",
    "### 2.4 - Training the Model\n",
    "\n",
    "The model is trained on the Dataset using `.fit()`"
   ]
  },
  {
   "cell_type": "code",
   "execution_count": 26,
   "metadata": {},
   "outputs": [
    {
     "name": "stdout",
     "output_type": "stream",
     "text": [
      "WARNING:tensorflow:Expected a shuffled dataset but input dataset `x` is not shuffled. Please invoke `shuffle()` on input dataset.\n",
      "Epoch 1/100\n",
      "17/17 [==============================] - 8s 492ms/step - loss: 1.8445 - accuracy: 0.1667 - val_loss: 1.7934 - val_accuracy: 0.1667\n",
      "Epoch 2/100\n",
      "17/17 [==============================] - 3s 180ms/step - loss: 1.7861 - accuracy: 0.1991 - val_loss: 1.7863 - val_accuracy: 0.2417\n",
      "Epoch 3/100\n",
      "17/17 [==============================] - 3s 182ms/step - loss: 1.7808 - accuracy: 0.2519 - val_loss: 1.7815 - val_accuracy: 0.1833\n",
      "Epoch 4/100\n",
      "17/17 [==============================] - 3s 169ms/step - loss: 1.7762 - accuracy: 0.2769 - val_loss: 1.7793 - val_accuracy: 0.1917\n",
      "Epoch 5/100\n",
      "17/17 [==============================] - 3s 180ms/step - loss: 1.7713 - accuracy: 0.3287 - val_loss: 1.7752 - val_accuracy: 0.3000\n",
      "Epoch 6/100\n",
      "17/17 [==============================] - 3s 159ms/step - loss: 1.7651 - accuracy: 0.3426 - val_loss: 1.7703 - val_accuracy: 0.2833\n",
      "Epoch 7/100\n",
      "17/17 [==============================] - 3s 152ms/step - loss: 1.7579 - accuracy: 0.3481 - val_loss: 1.7648 - val_accuracy: 0.2750\n",
      "Epoch 8/100\n",
      "17/17 [==============================] - 3s 178ms/step - loss: 1.7494 - accuracy: 0.3657 - val_loss: 1.7576 - val_accuracy: 0.3417\n",
      "Epoch 9/100\n",
      "17/17 [==============================] - 3s 152ms/step - loss: 1.7397 - accuracy: 0.3509 - val_loss: 1.7502 - val_accuracy: 0.3083\n",
      "Epoch 10/100\n",
      "17/17 [==============================] - 3s 155ms/step - loss: 1.7256 - accuracy: 0.3815 - val_loss: 1.7375 - val_accuracy: 0.3333\n",
      "Epoch 11/100\n",
      "17/17 [==============================] - 3s 159ms/step - loss: 1.7071 - accuracy: 0.3722 - val_loss: 1.7226 - val_accuracy: 0.3500\n",
      "Epoch 12/100\n",
      "17/17 [==============================] - 3s 189ms/step - loss: 1.6827 - accuracy: 0.3981 - val_loss: 1.7022 - val_accuracy: 0.3667\n",
      "Epoch 13/100\n",
      "17/17 [==============================] - 3s 154ms/step - loss: 1.6533 - accuracy: 0.4185 - val_loss: 1.6790 - val_accuracy: 0.3750\n",
      "Epoch 14/100\n",
      "17/17 [==============================] - 2s 144ms/step - loss: 1.6188 - accuracy: 0.4269 - val_loss: 1.6505 - val_accuracy: 0.3833\n",
      "Epoch 15/100\n",
      "17/17 [==============================] - 2s 138ms/step - loss: 1.5773 - accuracy: 0.4602 - val_loss: 1.6162 - val_accuracy: 0.4083\n",
      "Epoch 16/100\n",
      "17/17 [==============================] - 3s 160ms/step - loss: 1.5316 - accuracy: 0.4843 - val_loss: 1.5770 - val_accuracy: 0.4500\n",
      "Epoch 17/100\n",
      "17/17 [==============================] - 3s 158ms/step - loss: 1.4832 - accuracy: 0.5130 - val_loss: 1.5330 - val_accuracy: 0.4917\n",
      "Epoch 18/100\n",
      "17/17 [==============================] - 2s 142ms/step - loss: 1.4296 - accuracy: 0.5407 - val_loss: 1.4871 - val_accuracy: 0.5000\n",
      "Epoch 19/100\n",
      "17/17 [==============================] - 3s 179ms/step - loss: 1.3793 - accuracy: 0.5620 - val_loss: 1.4355 - val_accuracy: 0.5167\n",
      "Epoch 20/100\n",
      "17/17 [==============================] - 5s 290ms/step - loss: 1.3271 - accuracy: 0.5806 - val_loss: 1.3861 - val_accuracy: 0.5833\n",
      "Epoch 21/100\n",
      "17/17 [==============================] - 5s 297ms/step - loss: 1.2753 - accuracy: 0.5944 - val_loss: 1.3353 - val_accuracy: 0.5583\n",
      "Epoch 22/100\n",
      "17/17 [==============================] - 5s 306ms/step - loss: 1.2249 - accuracy: 0.6056 - val_loss: 1.2880 - val_accuracy: 0.5417\n",
      "Epoch 23/100\n",
      "17/17 [==============================] - 5s 280ms/step - loss: 1.1755 - accuracy: 0.6222 - val_loss: 1.2390 - val_accuracy: 0.5833\n",
      "Epoch 24/100\n",
      "17/17 [==============================] - 5s 296ms/step - loss: 1.1306 - accuracy: 0.6389 - val_loss: 1.1927 - val_accuracy: 0.5833\n",
      "Epoch 25/100\n",
      "17/17 [==============================] - 5s 293ms/step - loss: 1.0859 - accuracy: 0.6620 - val_loss: 1.1470 - val_accuracy: 0.5917\n",
      "Epoch 26/100\n",
      "17/17 [==============================] - 5s 292ms/step - loss: 1.0454 - accuracy: 0.6713 - val_loss: 1.1076 - val_accuracy: 0.6000\n",
      "Epoch 27/100\n",
      "17/17 [==============================] - 5s 292ms/step - loss: 1.0080 - accuracy: 0.6806 - val_loss: 1.0686 - val_accuracy: 0.6167\n",
      "Epoch 28/100\n",
      "17/17 [==============================] - 5s 291ms/step - loss: 0.9769 - accuracy: 0.6824 - val_loss: 1.0356 - val_accuracy: 0.6250\n",
      "Epoch 29/100\n",
      "17/17 [==============================] - 5s 272ms/step - loss: 0.9431 - accuracy: 0.6944 - val_loss: 0.9991 - val_accuracy: 0.6667\n",
      "Epoch 30/100\n",
      "17/17 [==============================] - 5s 281ms/step - loss: 0.9149 - accuracy: 0.7037 - val_loss: 0.9676 - val_accuracy: 0.6667\n",
      "Epoch 31/100\n",
      "17/17 [==============================] - 5s 270ms/step - loss: 0.8863 - accuracy: 0.7120 - val_loss: 0.9384 - val_accuracy: 0.7167\n",
      "Epoch 32/100\n",
      "17/17 [==============================] - 4s 258ms/step - loss: 0.8604 - accuracy: 0.7148 - val_loss: 0.9097 - val_accuracy: 0.7333\n",
      "Epoch 33/100\n",
      "17/17 [==============================] - 4s 259ms/step - loss: 0.8342 - accuracy: 0.7213 - val_loss: 0.8839 - val_accuracy: 0.7500\n",
      "Epoch 34/100\n",
      "17/17 [==============================] - 4s 258ms/step - loss: 0.8120 - accuracy: 0.7296 - val_loss: 0.8619 - val_accuracy: 0.7583\n",
      "Epoch 35/100\n",
      "17/17 [==============================] - 4s 255ms/step - loss: 0.7894 - accuracy: 0.7380 - val_loss: 0.8367 - val_accuracy: 0.7500\n",
      "Epoch 36/100\n",
      "17/17 [==============================] - 4s 260ms/step - loss: 0.7697 - accuracy: 0.7463 - val_loss: 0.8180 - val_accuracy: 0.7500\n",
      "Epoch 37/100\n",
      "17/17 [==============================] - 4s 247ms/step - loss: 0.7497 - accuracy: 0.7463 - val_loss: 0.7954 - val_accuracy: 0.7667\n",
      "Epoch 38/100\n",
      "17/17 [==============================] - 4s 257ms/step - loss: 0.7306 - accuracy: 0.7657 - val_loss: 0.7765 - val_accuracy: 0.7667\n",
      "Epoch 39/100\n",
      "17/17 [==============================] - 4s 250ms/step - loss: 0.7129 - accuracy: 0.7759 - val_loss: 0.7580 - val_accuracy: 0.7667\n",
      "Epoch 40/100\n",
      "17/17 [==============================] - 4s 263ms/step - loss: 0.6957 - accuracy: 0.7796 - val_loss: 0.7424 - val_accuracy: 0.7667\n",
      "Epoch 41/100\n",
      "17/17 [==============================] - 4s 257ms/step - loss: 0.6810 - accuracy: 0.7843 - val_loss: 0.7273 - val_accuracy: 0.7750\n",
      "Epoch 42/100\n",
      "17/17 [==============================] - 4s 249ms/step - loss: 0.6666 - accuracy: 0.7852 - val_loss: 0.7143 - val_accuracy: 0.7750\n",
      "Epoch 43/100\n",
      "17/17 [==============================] - 5s 270ms/step - loss: 0.6537 - accuracy: 0.7889 - val_loss: 0.7017 - val_accuracy: 0.7667\n",
      "Epoch 44/100\n",
      "17/17 [==============================] - 4s 261ms/step - loss: 0.6411 - accuracy: 0.7898 - val_loss: 0.6917 - val_accuracy: 0.7667\n",
      "Epoch 45/100\n",
      "17/17 [==============================] - 5s 288ms/step - loss: 0.6302 - accuracy: 0.7926 - val_loss: 0.6826 - val_accuracy: 0.7667\n",
      "Epoch 46/100\n",
      "17/17 [==============================] - 5s 274ms/step - loss: 0.6206 - accuracy: 0.7963 - val_loss: 0.6735 - val_accuracy: 0.7750\n",
      "Epoch 47/100\n",
      "17/17 [==============================] - 5s 275ms/step - loss: 0.6116 - accuracy: 0.8046 - val_loss: 0.6644 - val_accuracy: 0.7833\n",
      "Epoch 48/100\n",
      "17/17 [==============================] - 5s 286ms/step - loss: 0.6020 - accuracy: 0.8102 - val_loss: 0.6527 - val_accuracy: 0.7833\n",
      "Epoch 49/100\n",
      "17/17 [==============================] - 6s 370ms/step - loss: 0.5926 - accuracy: 0.8148 - val_loss: 0.6451 - val_accuracy: 0.7833\n",
      "Epoch 50/100\n",
      "17/17 [==============================] - 5s 301ms/step - loss: 0.5819 - accuracy: 0.8148 - val_loss: 0.6336 - val_accuracy: 0.7833\n",
      "Epoch 51/100\n",
      "17/17 [==============================] - 6s 338ms/step - loss: 0.5736 - accuracy: 0.8213 - val_loss: 0.6256 - val_accuracy: 0.7833\n",
      "Epoch 52/100\n",
      "17/17 [==============================] - 5s 318ms/step - loss: 0.5639 - accuracy: 0.8204 - val_loss: 0.6127 - val_accuracy: 0.7833\n",
      "Epoch 53/100\n",
      "17/17 [==============================] - 5s 314ms/step - loss: 0.5560 - accuracy: 0.8269 - val_loss: 0.6073 - val_accuracy: 0.7833\n",
      "Epoch 54/100\n",
      "17/17 [==============================] - 5s 300ms/step - loss: 0.5464 - accuracy: 0.8278 - val_loss: 0.5941 - val_accuracy: 0.8000\n",
      "Epoch 55/100\n",
      "17/17 [==============================] - 5s 276ms/step - loss: 0.5378 - accuracy: 0.8287 - val_loss: 0.5910 - val_accuracy: 0.7833\n",
      "Epoch 56/100\n",
      "17/17 [==============================] - 5s 273ms/step - loss: 0.5285 - accuracy: 0.8333 - val_loss: 0.5795 - val_accuracy: 0.7917\n",
      "Epoch 57/100\n",
      "17/17 [==============================] - 5s 266ms/step - loss: 0.5219 - accuracy: 0.8296 - val_loss: 0.5748 - val_accuracy: 0.8000\n",
      "Epoch 58/100\n",
      "17/17 [==============================] - 5s 273ms/step - loss: 0.5141 - accuracy: 0.8315 - val_loss: 0.5641 - val_accuracy: 0.8083\n",
      "Epoch 59/100\n",
      "17/17 [==============================] - 5s 271ms/step - loss: 0.5073 - accuracy: 0.8333 - val_loss: 0.5617 - val_accuracy: 0.8083\n",
      "Epoch 60/100\n",
      "17/17 [==============================] - 6s 324ms/step - loss: 0.4991 - accuracy: 0.8352 - val_loss: 0.5501 - val_accuracy: 0.8083\n",
      "Epoch 61/100\n",
      "17/17 [==============================] - 6s 359ms/step - loss: 0.4923 - accuracy: 0.8398 - val_loss: 0.5475 - val_accuracy: 0.8000\n",
      "Epoch 62/100\n",
      "17/17 [==============================] - 5s 300ms/step - loss: 0.4854 - accuracy: 0.8398 - val_loss: 0.5382 - val_accuracy: 0.8000\n",
      "Epoch 63/100\n",
      "17/17 [==============================] - 5s 320ms/step - loss: 0.4804 - accuracy: 0.8417 - val_loss: 0.5358 - val_accuracy: 0.8000\n",
      "Epoch 64/100\n",
      "17/17 [==============================] - 7s 417ms/step - loss: 0.4731 - accuracy: 0.8426 - val_loss: 0.5259 - val_accuracy: 0.8000\n",
      "Epoch 65/100\n",
      "17/17 [==============================] - 6s 375ms/step - loss: 0.4680 - accuracy: 0.8463 - val_loss: 0.5248 - val_accuracy: 0.8000\n",
      "Epoch 66/100\n",
      "17/17 [==============================] - 8s 442ms/step - loss: 0.4614 - accuracy: 0.8444 - val_loss: 0.5148 - val_accuracy: 0.8083\n",
      "Epoch 67/100\n",
      "17/17 [==============================] - 7s 402ms/step - loss: 0.4562 - accuracy: 0.8463 - val_loss: 0.5127 - val_accuracy: 0.8083\n",
      "Epoch 68/100\n",
      "17/17 [==============================] - 6s 334ms/step - loss: 0.4494 - accuracy: 0.8509 - val_loss: 0.5048 - val_accuracy: 0.8167\n",
      "Epoch 69/100\n",
      "17/17 [==============================] - 7s 384ms/step - loss: 0.4447 - accuracy: 0.8537 - val_loss: 0.5022 - val_accuracy: 0.8167\n",
      "Epoch 70/100\n",
      "17/17 [==============================] - 6s 358ms/step - loss: 0.4384 - accuracy: 0.8565 - val_loss: 0.4931 - val_accuracy: 0.8250\n",
      "Epoch 71/100\n",
      "17/17 [==============================] - 7s 399ms/step - loss: 0.4336 - accuracy: 0.8593 - val_loss: 0.4927 - val_accuracy: 0.8167\n",
      "Epoch 72/100\n",
      "17/17 [==============================] - 7s 399ms/step - loss: 0.4286 - accuracy: 0.8611 - val_loss: 0.4857 - val_accuracy: 0.8167\n",
      "Epoch 73/100\n",
      "17/17 [==============================] - 6s 330ms/step - loss: 0.4245 - accuracy: 0.8667 - val_loss: 0.4824 - val_accuracy: 0.8167\n",
      "Epoch 74/100\n",
      "17/17 [==============================] - 5s 320ms/step - loss: 0.4187 - accuracy: 0.8648 - val_loss: 0.4750 - val_accuracy: 0.8250\n",
      "Epoch 75/100\n",
      "17/17 [==============================] - 6s 338ms/step - loss: 0.4145 - accuracy: 0.8676 - val_loss: 0.4746 - val_accuracy: 0.8167\n",
      "Epoch 76/100\n",
      "17/17 [==============================] - 6s 326ms/step - loss: 0.4086 - accuracy: 0.8676 - val_loss: 0.4658 - val_accuracy: 0.8250\n",
      "Epoch 77/100\n",
      "17/17 [==============================] - 5s 302ms/step - loss: 0.4041 - accuracy: 0.8713 - val_loss: 0.4656 - val_accuracy: 0.8250\n",
      "Epoch 78/100\n",
      "17/17 [==============================] - 5s 267ms/step - loss: 0.3992 - accuracy: 0.8713 - val_loss: 0.4590 - val_accuracy: 0.8250\n",
      "Epoch 79/100\n",
      "17/17 [==============================] - 5s 295ms/step - loss: 0.3952 - accuracy: 0.8722 - val_loss: 0.4572 - val_accuracy: 0.8250\n",
      "Epoch 80/100\n",
      "17/17 [==============================] - 5s 296ms/step - loss: 0.3904 - accuracy: 0.8769 - val_loss: 0.4503 - val_accuracy: 0.8250\n",
      "Epoch 81/100\n",
      "17/17 [==============================] - 6s 327ms/step - loss: 0.3863 - accuracy: 0.8769 - val_loss: 0.4494 - val_accuracy: 0.8167\n",
      "Epoch 82/100\n",
      "17/17 [==============================] - 5s 295ms/step - loss: 0.3817 - accuracy: 0.8796 - val_loss: 0.4433 - val_accuracy: 0.8250\n",
      "Epoch 83/100\n",
      "17/17 [==============================] - 4s 208ms/step - loss: 0.3781 - accuracy: 0.8815 - val_loss: 0.4421 - val_accuracy: 0.8250\n",
      "Epoch 84/100\n",
      "17/17 [==============================] - 4s 236ms/step - loss: 0.3734 - accuracy: 0.8824 - val_loss: 0.4360 - val_accuracy: 0.8333\n",
      "Epoch 85/100\n",
      "17/17 [==============================] - 5s 284ms/step - loss: 0.3701 - accuracy: 0.8852 - val_loss: 0.4352 - val_accuracy: 0.8333\n",
      "Epoch 86/100\n",
      "17/17 [==============================] - 5s 285ms/step - loss: 0.3657 - accuracy: 0.8843 - val_loss: 0.4295 - val_accuracy: 0.8333\n",
      "Epoch 87/100\n",
      "17/17 [==============================] - 6s 342ms/step - loss: 0.3622 - accuracy: 0.8880 - val_loss: 0.4293 - val_accuracy: 0.8333\n",
      "Epoch 88/100\n",
      "17/17 [==============================] - 7s 385ms/step - loss: 0.3578 - accuracy: 0.8889 - val_loss: 0.4230 - val_accuracy: 0.8333\n",
      "Epoch 89/100\n",
      "17/17 [==============================] - 8s 476ms/step - loss: 0.3548 - accuracy: 0.8907 - val_loss: 0.4234 - val_accuracy: 0.8333\n",
      "Epoch 90/100\n",
      "17/17 [==============================] - 8s 446ms/step - loss: 0.3507 - accuracy: 0.8935 - val_loss: 0.4178 - val_accuracy: 0.8333\n",
      "Epoch 91/100\n",
      "17/17 [==============================] - 6s 380ms/step - loss: 0.3476 - accuracy: 0.8944 - val_loss: 0.4172 - val_accuracy: 0.8500\n",
      "Epoch 92/100\n",
      "17/17 [==============================] - 6s 339ms/step - loss: 0.3431 - accuracy: 0.8944 - val_loss: 0.4113 - val_accuracy: 0.8417\n",
      "Epoch 93/100\n",
      "17/17 [==============================] - 6s 347ms/step - loss: 0.3400 - accuracy: 0.8981 - val_loss: 0.4114 - val_accuracy: 0.8500\n",
      "Epoch 94/100\n",
      "17/17 [==============================] - 4s 233ms/step - loss: 0.3364 - accuracy: 0.8991 - val_loss: 0.4065 - val_accuracy: 0.8417\n",
      "Epoch 95/100\n",
      "17/17 [==============================] - 3s 167ms/step - loss: 0.3339 - accuracy: 0.9028 - val_loss: 0.4049 - val_accuracy: 0.8583\n",
      "Epoch 96/100\n",
      "17/17 [==============================] - 3s 166ms/step - loss: 0.3299 - accuracy: 0.9037 - val_loss: 0.3997 - val_accuracy: 0.8583\n",
      "Epoch 97/100\n",
      "17/17 [==============================] - 3s 160ms/step - loss: 0.3270 - accuracy: 0.9046 - val_loss: 0.3999 - val_accuracy: 0.8583\n",
      "Epoch 98/100\n",
      "17/17 [==============================] - 3s 155ms/step - loss: 0.3235 - accuracy: 0.9046 - val_loss: 0.3947 - val_accuracy: 0.8500\n",
      "Epoch 99/100\n",
      "17/17 [==============================] - 3s 156ms/step - loss: 0.3209 - accuracy: 0.9074 - val_loss: 0.3949 - val_accuracy: 0.8583\n",
      "Epoch 100/100\n",
      "17/17 [==============================] - 2s 147ms/step - loss: 0.3173 - accuracy: 0.9056 - val_loss: 0.3890 - val_accuracy: 0.8583\n"
     ]
    }
   ],
   "source": [
    "train_dataset = tf.data.Dataset.from_tensor_slices((X_train, Y_train)).batch(64)        # Slicing the Train Dataset\n",
    "test_dataset = tf.data.Dataset.from_tensor_slices((X_test, Y_test)).batch(64)           # Slicing the Test Dataset\n",
    "history = conv_model.fit(train_dataset, epochs=100, validation_data=test_dataset)       # Training the Model"
   ]
  },
  {
   "cell_type": "markdown",
   "metadata": {},
   "source": [
    "<a name='3'></a>\n",
    "## 3 - Visualizing the loss and the accuracy of the object\n",
    "\n",
    "The history object is a dictionary output of the `.fit()` operation, and provides a record of all the loss and metric values in memory. "
   ]
  },
  {
   "cell_type": "code",
   "execution_count": 35,
   "metadata": {},
   "outputs": [
    {
     "data": {
      "text/plain": [
       "[Text(0.5, 0, 'Epoch'), Text(0, 0.5, 'Accuracy')]"
      ]
     },
     "execution_count": 35,
     "metadata": {},
     "output_type": "execute_result"
    },
    {
     "data": {
      "image/png": "[encoded data removed]",
      "text/plain": [
       "<Figure size 864x576 with 1 Axes>"
      ]
     },
     "metadata": {
      "needs_background": "light"
     },
     "output_type": "display_data"
    },
    {
     "data": {
      "image/png": "[encoded data removed]",
      "text/plain": [
       "<Figure size 864x576 with 1 Axes>"
      ]
     },
     "metadata": {
      "needs_background": "light"
     },
     "output_type": "display_data"
    }
   ],
   "source": [
    "df_loss = pd.DataFrame({'train': history.history['loss'],     'validation': history.history['val_loss']})      # Building a DataFrame with the Loss metrics of the Model\n",
    "df_acc  = pd.DataFrame({'train': history.history['accuracy'], 'validation': history.history['val_accuracy']})  # Building a DataFrame with the Accuracy metrics of the Model\n",
    "df_loss.plot(title='Model loss',figsize=(12,8)).set(xlabel='Epoch',ylabel='Loss')                              # Plotting the Loss DataFrame\n",
    "df_acc.plot(title='Model Accuracy',figsize=(12,8)).set(xlabel='Epoch',ylabel='Accuracy')                       # Plotting the Accuracy DataFrame"
   ]
  },
  {
   "cell_type": "markdown",
   "metadata": {},
   "source": [
    "The model shows an accuracy of **80%** on the validation set."
   ]
  }
 ],
 "metadata": {
  "coursera": {
   "course_slug": "convolutional-neural-networks",
   "graded_item_id": "bwbJV",
   "launcher_item_id": "0TkXB"
  },
  "kernelspec": {
   "display_name": "Python 3.7.10 ('tf')",
   "language": "python",
   "name": "python3"
  },
  "language_info": {
   "codemirror_mode": {
    "name": "ipython",
    "version": 3
   },
   "file_extension": ".py",
   "mimetype": "text/x-python",
   "name": "python",
   "nbconvert_exporter": "python",
   "pygments_lexer": "ipython3",
   "version": "3.7.10"
  },
  "vscode": {
   "interpreter": {
    "hash": "b7ece37ac8f0702dec6a556f50c0274bccc7768cdc37800daa336dddec801378"
   }
  }
 },
 "nbformat": 4,
 "nbformat_minor": 2
}
